{
 "cells": [
  {
   "cell_type": "markdown",
   "metadata": {
    "collapsed": true
   },
   "source": [
    "Work around CDHit's issue of selecting a sequence randomly as the representative sequence.\n",
    "\n",
    "Perform after PandaSeq but before CDHit\n",
    "\n",
    "Includes the sequence in the name line"
   ]
  },
  {
   "cell_type": "code",
   "execution_count": 1,
   "metadata": {},
   "outputs": [],
   "source": [
    "import numpy as np\n",
    "\n",
    "round_list = [\"DR401_R1\",\"DR401_R2\",\"DR401_R3\"]\n",
    "for roundx in round_list:\n",
    "    read_file_name =  'pepdist_'+roundx + '_ps'\n",
    "    write_file_name = read_file_name + '_renamed'\n",
    "\n",
    "    #import pandaseq fasta file data\n",
    "    with open(read_file_name+'.fasta', 'r') as read_file:  \n",
    "        ps_file=read_file.readlines()\n",
    "\n",
    "    #Add the sequence to the end of the name\n",
    "    with open(write_file_name+'.fasta','w') as write_file:\n",
    "        line1 = ''\n",
    "        for line_in in ps_file:\n",
    "            line = line_in.strip()\n",
    "\n",
    "            if len(line)<1: \n",
    "                line = ' '\n",
    "            if line[0]=='>':\n",
    "                line1=line\n",
    "            else:\n",
    "                line1=line1+\"_\"+line\n",
    "                write_file.write(line1+'\\n')\n",
    "                write_file.write(line+'\\n')"
   ]
  },
  {
   "cell_type": "code",
   "execution_count": null,
   "metadata": {},
   "outputs": [],
   "source": []
  }
 ],
 "metadata": {
  "kernelspec": {
   "display_name": "Python 3",
   "language": "python",
   "name": "python3"
  },
  "language_info": {
   "codemirror_mode": {
    "name": "ipython",
    "version": 3
   },
   "file_extension": ".py",
   "mimetype": "text/x-python",
   "name": "python",
   "nbconvert_exporter": "python",
   "pygments_lexer": "ipython3",
   "version": "3.7.3"
  }
 },
 "nbformat": 4,
 "nbformat_minor": 2
}
