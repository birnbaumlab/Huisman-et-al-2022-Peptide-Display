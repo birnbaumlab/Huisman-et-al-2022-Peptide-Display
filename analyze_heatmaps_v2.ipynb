{
 "cells": [
  {
   "cell_type": "code",
   "execution_count": null,
   "metadata": {},
   "outputs": [],
   "source": [
    "# visualize heatmaps"
   ]
  },
  {
   "cell_type": "code",
   "execution_count": null,
   "metadata": {},
   "outputs": [],
   "source": [
    "import numpy as np\n",
    "import pandas as pd\n",
    "import csv\n",
    "import string\n",
    "import matplotlib.pyplot as plt\n",
    "import matplotlib\n",
    "import seaborn as sns\n",
    "import filecmp\n",
    "from scipy import stats\n",
    "import re"
   ]
  },
  {
   "cell_type": "code",
   "execution_count": null,
   "metadata": {},
   "outputs": [],
   "source": [
    "#### POST-PROCESSING ###################\n",
    "def pivot_pos_aa(master):\n",
    "#Generate table of positions of amino acids.  \n",
    "    position_n = ['1','2','3','4','5','6','7','8','9','10','11','12','13']\n",
    "    index_x = ['A','G','I','L','P','V','F','W','Y','D','E','R','H','K','S','T','C','M','N','Q'] \n",
    "    \n",
    "    # NOT Weighted by read counts\n",
    "    pivot = pd.DataFrame(columns=position_n, index=index_x)\n",
    "    for i in position_n:\n",
    "        for j in index_x:\n",
    "            pivot[i][j]=np.sum((master[int(i)]==j)*1)\n",
    "    return pivot\n",
    "\n",
    "\n",
    "\n",
    "def heatmaps_discrete(pivot_norm, labels, bins, cbar_label='Fraction of Peptides', xlabel='', ylabel='',cscheme='redblue'):\n",
    "#normalized data (input) shown with DISCRETE colorbar\n",
    "    #Generate discrete dataframe\n",
    "    position_n = list(pivot_norm.columns.values)\n",
    "    index_x = list(pivot_norm.index.values)\n",
    "    n_bins = np.size(bins)-1\n",
    "    bin_color =  list(range(0, n_bins+1))\n",
    "    pivot_discrete = pd.DataFrame(columns=position_n, index=index_x)\n",
    "\n",
    "    for x in range(1,n_bins+1):\n",
    "        for i in position_n:\n",
    "            for j in index_x:\n",
    "                if pivot_norm[i][j]<bins[x] and pivot_norm[i][j]>=bins[x-1]:\n",
    "                    pivot_discrete[i][j] = 0.5*(bin_color[x]+bin_color[x-1]) #this puts the value in the middle of a bin\n",
    "\n",
    "    plt.figure(figsize=(16,15)) #adjust size of figure\n",
    "    if cscheme=='redblue':\n",
    "        ax=sns.heatmap(pivot_discrete.astype(float),cbar_kws={'label': cbar_label},vmin=0,vmax=n_bins,cmap=plt.cm.get_cmap('bwr_r', n_bins))#, square=True)\n",
    "    if cscheme=='blue':\n",
    "        ax=sns.heatmap(pivot_discrete.astype(float),cbar_kws={'label': cbar_label},vmin=0,vmax=n_bins,cmap=plt.cm.get_cmap('Blues', n_bins))#, square=True)\n",
    "    \n",
    "    font_size = 35\n",
    "    ax.set_xticklabels(labels,fontsize=font_size)\n",
    "        \n",
    "    ax.set_yticklabels(['A','G','I','L','P','V','F','W','Y','D','E','R','H','K','S','T','C','M','N','Q'],horizontalalignment='center', fontsize=font_size) #CGR ordering\n",
    "    \n",
    "    ax.tick_params(axis='both', pad=25,length=0)\n",
    "    \n",
    "    ax.figure.axes[-1].yaxis.label.set_size(font_size) #colorbar label\n",
    "    \n",
    "    \n",
    "    colorbar = ax.collections[0].colorbar\n",
    "    colorbar.set_ticks(bin_color)\n",
    "    colorbar.set_ticklabels(bins)\n",
    "    colorbar.ax.tick_params(labelsize=font_size) \n",
    "    plt.yticks(rotation=0) \n",
    "    plt.xlabel(xlabel)\n",
    "    plt.ylabel(ylabel)\n",
    "    plt.show()\n",
    "    \n",
    "      \n",
    "    \n",
    "## Call other functions ###############\n",
    "def do_it(write_file_name, cluster_n):\n",
    "    master = pd.read_csv(write_file_name+'.csv')\n",
    "    if cluster_n != 'all':\n",
    "        master = master.loc[master[\"P1\"] == cluster_n]\n",
    "    for i in range(1,14):\n",
    "        master[i] = master['sequence'].str[i-1]\n",
    "   \n",
    "    pivot = pivot_pos_aa(master)\n",
    "    \n",
    "    bins = [0, 0.02, 0.04, 0.08, 0.16, 0.32, 1] #bins for discrete colorbar\n",
    "    labels = ['-2','-1','1','2','3','4','5','6','7','8','9','10','11']\n",
    "    pivot_norm = pivot/pivot.sum(0)[0]\n",
    "    \n",
    "\n",
    "    heatmaps_discrete(pivot_norm, labels, bins) #red/blue scheme\n",
    "    heatmaps_discrete(pivot_norm, labels, bins,cscheme='blue')\n",
    "    \n",
    "    return pivot, pivot_norm\n"
   ]
  },
  {
   "cell_type": "code",
   "execution_count": null,
   "metadata": {
    "scrolled": true
   },
   "outputs": [],
   "source": [
    "# R0\n",
    "write_file_name = 'R0_cdhit-corrected_data'\n",
    "\n",
    "pivotR0, pivotR0_norm =do_it(write_file_name,'all')\n",
    "display(pivotR0)"
   ]
  },
  {
   "cell_type": "code",
   "execution_count": null,
   "metadata": {},
   "outputs": [],
   "source": [
    "def do_it_withFC(write_file_name,cluster_n,pivotR0_norm):\n",
    "    pivot, pivot_norm=do_it(write_file_name,cluster_n)\n",
    "    \n",
    "    #log2FC\n",
    "    fc = pivot_norm/pivotR0_norm\n",
    "    log2fc = fc.applymap(np.log2)\n",
    "    labels = ['-2','-1','1','2','3','4','5','6','7','8','9','10','11']\n",
    "    heatmaps_discrete(log2fc, labels, [-10,-2,-1,0,1,2,10],cbar_label='log2FC')\n",
    "\n",
    "    display(pivot)\n",
    "    \n",
    "    return pivot, pivot_norm"
   ]
  },
  {
   "cell_type": "code",
   "execution_count": null,
   "metadata": {},
   "outputs": [],
   "source": [
    "# HLA-DR15 Data\n",
    "save_prefix = 'align-v3_NGS6_DR15'\n",
    "cluster_n = 2\n",
    "\n",
    "pivot, pivot_norm=do_it_withFC(\"peptidedisplay_{}_clusters\".format(save_prefix),cluster_n,pivotR0_norm)"
   ]
  },
  {
   "cell_type": "code",
   "execution_count": null,
   "metadata": {},
   "outputs": [],
   "source": []
  }
 ],
 "metadata": {
  "kernelspec": {
   "display_name": "Python 3",
   "language": "python",
   "name": "python3"
  },
  "language_info": {
   "codemirror_mode": {
    "name": "ipython",
    "version": 3
   },
   "file_extension": ".py",
   "mimetype": "text/x-python",
   "name": "python",
   "nbconvert_exporter": "python",
   "pygments_lexer": "ipython3",
   "version": "3.7.3"
  }
 },
 "nbformat": 4,
 "nbformat_minor": 2
}
